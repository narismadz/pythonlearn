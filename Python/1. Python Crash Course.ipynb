{
  "cells": [
    {
      "metadata": {},
      "cell_type": "markdown",
      "source": "___\n\n<a href='http://www.pieriandata.com'> <img src='https://www.python.org/static/community_logos/python-logo-master-v3-TM.png' /></a>\n___"
    },
    {
      "metadata": {},
      "cell_type": "markdown",
      "source": "# Python Crash Course\n\nPlease note, this is not meant to be a comprehensive overview of Python or programming in general, if you have no programming experience, you should probably take my other course: [Complete Python Bootcamp](https://www.udemy.com/complete-python-bootcamp/?couponCode=PY20) instead.\n\n**This notebook is just a code reference for the videos, no written explanations here**\n\nThis notebook will just go through the basic topics in order:\n\n* Data types\n    * Numbers\n    * Strings\n    * Printing\n    * Lists [  ]\n    * Dictionaries\n    * Booleans\n    * Tuples ( )\n    * Sets { }\n* Comparison Operators\n* if,elif, else Statements\n* for Loops\n* while Loops\n* range()\n* list comprehension\n* functions\n* lambda expressions\n* map and filter\n* methods\n____"
    },
    {
      "metadata": {},
      "cell_type": "markdown",
      "source": "### Data types"
    },
    {
      "metadata": {
        "trusted": false
      },
      "cell_type": "code",
      "source": "1 #integer",
      "execution_count": 1,
      "outputs": [
        {
          "data": {
            "text/plain": "1"
          },
          "execution_count": 1,
          "metadata": {},
          "output_type": "execute_result"
        }
      ]
    },
    {
      "metadata": {
        "trusted": false
      },
      "cell_type": "code",
      "source": "1.0 #floating point number (decimal)",
      "execution_count": 2,
      "outputs": [
        {
          "data": {
            "text/plain": "1.0"
          },
          "execution_count": 2,
          "metadata": {},
          "output_type": "execute_result"
        }
      ]
    },
    {
      "metadata": {
        "trusted": false
      },
      "cell_type": "code",
      "source": "1 + 1 # addition",
      "execution_count": 3,
      "outputs": [
        {
          "data": {
            "text/plain": "2"
          },
          "execution_count": 3,
          "metadata": {},
          "output_type": "execute_result"
        }
      ]
    },
    {
      "metadata": {
        "trusted": false
      },
      "cell_type": "code",
      "source": "3 * 3 # multiplication",
      "execution_count": 4,
      "outputs": [
        {
          "data": {
            "text/plain": "9"
          },
          "execution_count": 4,
          "metadata": {},
          "output_type": "execute_result"
        }
      ]
    },
    {
      "metadata": {
        "trusted": false
      },
      "cell_type": "code",
      "source": "1 / 2 # devision (will get floating point number as the result)",
      "execution_count": 5,
      "outputs": [
        {
          "data": {
            "text/plain": "0.5"
          },
          "execution_count": 5,
          "metadata": {},
          "output_type": "execute_result"
        }
      ]
    },
    {
      "metadata": {
        "trusted": false
      },
      "cell_type": "code",
      "source": "10 ** 2 # power of",
      "execution_count": 6,
      "outputs": [
        {
          "data": {
            "text/plain": "100"
          },
          "execution_count": 6,
          "metadata": {},
          "output_type": "execute_result"
        }
      ]
    },
    {
      "metadata": {
        "trusted": false
      },
      "cell_type": "code",
      "source": "2 + 3 * 5 + 5 # Math operation (multiply first)",
      "execution_count": 7,
      "outputs": [
        {
          "data": {
            "text/plain": "22"
          },
          "execution_count": 7,
          "metadata": {},
          "output_type": "execute_result"
        }
      ]
    },
    {
      "metadata": {
        "trusted": false
      },
      "cell_type": "code",
      "source": "(2 + 3) * (5 + 5)",
      "execution_count": 8,
      "outputs": [
        {
          "data": {
            "text/plain": "50"
          },
          "execution_count": 8,
          "metadata": {},
          "output_type": "execute_result"
        }
      ]
    },
    {
      "metadata": {
        "trusted": false
      },
      "cell_type": "code",
      "source": "5 % 2 # mod (get the remainder of devision, remainder 1 is odd number)",
      "execution_count": 5,
      "outputs": [
        {
          "data": {
            "text/plain": "1"
          },
          "execution_count": 5,
          "metadata": {},
          "output_type": "execute_result"
        }
      ]
    },
    {
      "metadata": {
        "trusted": false
      },
      "cell_type": "code",
      "source": "v = 2 # assign variable",
      "execution_count": 4,
      "outputs": []
    },
    {
      "metadata": {
        "trusted": false
      },
      "cell_type": "code",
      "source": "v + 4",
      "execution_count": 14,
      "outputs": [
        {
          "data": {
            "text/plain": "6"
          },
          "execution_count": 14,
          "metadata": {},
          "output_type": "execute_result"
        }
      ]
    },
    {
      "metadata": {
        "trusted": false
      },
      "cell_type": "code",
      "source": "v = v + v",
      "execution_count": 15,
      "outputs": []
    },
    {
      "metadata": {
        "trusted": false
      },
      "cell_type": "code",
      "source": "v",
      "execution_count": 16,
      "outputs": [
        {
          "data": {
            "text/plain": "4"
          },
          "execution_count": 16,
          "metadata": {},
          "output_type": "execute_result"
        }
      ]
    },
    {
      "metadata": {
        "trusted": false
      },
      "cell_type": "code",
      "source": "\"I can't go\" # single of double quote create string type",
      "execution_count": 22,
      "outputs": [
        {
          "data": {
            "text/plain": "\"I can't go\""
          },
          "execution_count": 22,
          "metadata": {},
          "output_type": "execute_result"
        }
      ]
    },
    {
      "metadata": {
        "trusted": false
      },
      "cell_type": "code",
      "source": "x = 'hello' # variable of string",
      "execution_count": 25,
      "outputs": []
    },
    {
      "metadata": {
        "trusted": false
      },
      "cell_type": "code",
      "source": "x",
      "execution_count": 27,
      "outputs": [
        {
          "data": {
            "text/plain": "'hello'"
          },
          "execution_count": 27,
          "metadata": {},
          "output_type": "execute_result"
        }
      ]
    },
    {
      "metadata": {
        "trusted": false
      },
      "cell_type": "code",
      "source": "print(x) ",
      "execution_count": 26,
      "outputs": [
        {
          "name": "stdout",
          "output_type": "stream",
          "text": "hello\n"
        }
      ]
    },
    {
      "metadata": {
        "trusted": false
      },
      "cell_type": "code",
      "source": "num = 12 \nname = 'Sam'",
      "execution_count": 2,
      "outputs": []
    },
    {
      "metadata": {
        "trusted": false
      },
      "cell_type": "code",
      "source": "print('My number is {} and my name is {}'.format(num,name))  # put it where you want",
      "execution_count": 3,
      "outputs": [
        {
          "name": "stdout",
          "output_type": "stream",
          "text": "My number is 12 and my name is Sam\n"
        }
      ]
    },
    {
      "metadata": {
        "trusted": false
      },
      "cell_type": "code",
      "source": "print('My number is {one} and my name is {two}, more {one}'.format(one=num,two=name))",
      "execution_count": 4,
      "outputs": [
        {
          "name": "stdout",
          "output_type": "stream",
          "text": "My number is 12 and my name is Sam, more 12\n"
        }
      ]
    },
    {
      "metadata": {
        "trusted": false
      },
      "cell_type": "code",
      "source": "s = 'hello' ",
      "execution_count": 5,
      "outputs": []
    },
    {
      "metadata": {
        "trusted": false
      },
      "cell_type": "code",
      "source": "s[0] # index the letter 0 is the first one",
      "execution_count": 6,
      "outputs": [
        {
          "data": {
            "text/plain": "'h'"
          },
          "execution_count": 6,
          "metadata": {},
          "output_type": "execute_result"
        }
      ]
    },
    {
      "metadata": {
        "trusted": false
      },
      "cell_type": "code",
      "source": "t = 'abcdefghijk'",
      "execution_count": 7,
      "outputs": []
    },
    {
      "metadata": {
        "trusted": false
      },
      "cell_type": "code",
      "source": "t[:3] # obtain first 3",
      "execution_count": 8,
      "outputs": [
        {
          "data": {
            "text/plain": "'abc'"
          },
          "execution_count": 8,
          "metadata": {},
          "output_type": "execute_result"
        }
      ]
    },
    {
      "metadata": {
        "trusted": false
      },
      "cell_type": "code",
      "source": "t[4:7] # obtain from... to",
      "execution_count": 11,
      "outputs": [
        {
          "data": {
            "text/plain": "'efg'"
          },
          "execution_count": 11,
          "metadata": {},
          "output_type": "execute_result"
        }
      ]
    },
    {
      "metadata": {
        "trusted": false
      },
      "cell_type": "code",
      "source": "[1,2,3] # list of number",
      "execution_count": 12,
      "outputs": [
        {
          "data": {
            "text/plain": "[1, 2, 3]"
          },
          "execution_count": 12,
          "metadata": {},
          "output_type": "execute_result"
        }
      ]
    },
    {
      "metadata": {
        "trusted": false
      },
      "cell_type": "code",
      "source": "['a','b','c'] # list of string",
      "execution_count": 13,
      "outputs": [
        {
          "data": {
            "text/plain": "['a', 'b', 'c']"
          },
          "execution_count": 13,
          "metadata": {},
          "output_type": "execute_result"
        }
      ]
    },
    {
      "metadata": {
        "trusted": false
      },
      "cell_type": "code",
      "source": "my_list = ['a','b','c']",
      "execution_count": 16,
      "outputs": []
    },
    {
      "metadata": {
        "trusted": false
      },
      "cell_type": "code",
      "source": "my_list.append('d') # add more string in the list",
      "execution_count": 20,
      "outputs": []
    },
    {
      "metadata": {
        "trusted": false
      },
      "cell_type": "code",
      "source": "my_list",
      "execution_count": 19,
      "outputs": [
        {
          "data": {
            "text/plain": "['a', 'b', 'c', 'd']"
          },
          "execution_count": 19,
          "metadata": {},
          "output_type": "execute_result"
        }
      ]
    },
    {
      "metadata": {
        "trusted": false
      },
      "cell_type": "code",
      "source": "my_list[2] # index in list",
      "execution_count": 21,
      "outputs": [
        {
          "data": {
            "text/plain": "'c'"
          },
          "execution_count": 21,
          "metadata": {},
          "output_type": "execute_result"
        }
      ]
    },
    {
      "metadata": {
        "trusted": false
      },
      "cell_type": "code",
      "source": "my_list[1:3]",
      "execution_count": 22,
      "outputs": [
        {
          "data": {
            "text/plain": "['b', 'c']"
          },
          "execution_count": 22,
          "metadata": {},
          "output_type": "execute_result"
        }
      ]
    },
    {
      "metadata": {
        "trusted": false
      },
      "cell_type": "code",
      "source": "my_list[2] = 'NEW' # insert the new value",
      "execution_count": 23,
      "outputs": []
    },
    {
      "metadata": {
        "trusted": false
      },
      "cell_type": "code",
      "source": "my_list",
      "execution_count": 25,
      "outputs": [
        {
          "data": {
            "text/plain": "['a', 'b', 'NEW', 'd', 'd']"
          },
          "execution_count": 25,
          "metadata": {},
          "output_type": "execute_result"
        }
      ]
    },
    {
      "metadata": {
        "trusted": false
      },
      "cell_type": "code",
      "source": "nest = [1,2,[3,4]] # list inside list (nest)",
      "execution_count": 26,
      "outputs": []
    },
    {
      "metadata": {
        "trusted": false
      },
      "cell_type": "code",
      "source": "nest",
      "execution_count": 27,
      "outputs": [
        {
          "data": {
            "text/plain": "[1, 2, [3, 4]]"
          },
          "execution_count": 27,
          "metadata": {},
          "output_type": "execute_result"
        }
      ]
    },
    {
      "metadata": {
        "trusted": false
      },
      "cell_type": "code",
      "source": "nest[2]",
      "execution_count": 29,
      "outputs": [
        {
          "data": {
            "text/plain": "[3, 4]"
          },
          "execution_count": 29,
          "metadata": {},
          "output_type": "execute_result"
        }
      ]
    },
    {
      "metadata": {
        "trusted": false
      },
      "cell_type": "code",
      "source": "nest[2][0] # get number 3 in the nest",
      "execution_count": 31,
      "outputs": [
        {
          "data": {
            "text/plain": "3"
          },
          "execution_count": 31,
          "metadata": {},
          "output_type": "execute_result"
        }
      ]
    },
    {
      "metadata": {
        "trusted": false
      },
      "cell_type": "code",
      "source": "nest_new = [1,2,3,[4,5,['target']]]",
      "execution_count": 32,
      "outputs": []
    },
    {
      "metadata": {
        "trusted": false
      },
      "cell_type": "code",
      "source": "nest_new[3]",
      "execution_count": 33,
      "outputs": [
        {
          "data": {
            "text/plain": "[4, 5, ['target']]"
          },
          "execution_count": 33,
          "metadata": {},
          "output_type": "execute_result"
        }
      ]
    },
    {
      "metadata": {
        "trusted": false
      },
      "cell_type": "code",
      "source": "nest_new[3][2]",
      "execution_count": 34,
      "outputs": [
        {
          "data": {
            "text/plain": "['target']"
          },
          "execution_count": 34,
          "metadata": {},
          "output_type": "execute_result"
        }
      ]
    },
    {
      "metadata": {
        "trusted": false
      },
      "cell_type": "code",
      "source": "nest_new[3][2][0] # remove blanket",
      "execution_count": 35,
      "outputs": [
        {
          "data": {
            "text/plain": "'target'"
          },
          "execution_count": 35,
          "metadata": {},
          "output_type": "execute_result"
        }
      ]
    },
    {
      "metadata": {
        "trusted": false
      },
      "cell_type": "code",
      "source": "print(nest_new[3][2][0]) # remove blanket and quotation",
      "execution_count": 36,
      "outputs": [
        {
          "name": "stdout",
          "output_type": "stream",
          "text": "target\n"
        }
      ]
    },
    {
      "metadata": {
        "trusted": false
      },
      "cell_type": "code",
      "source": "d = {'key1' : 'value', 'key2':123} # create dictionary same as hash table",
      "execution_count": 40,
      "outputs": []
    },
    {
      "metadata": {
        "trusted": false
      },
      "cell_type": "code",
      "source": "d['key1']",
      "execution_count": 41,
      "outputs": [
        {
          "data": {
            "text/plain": "'value'"
          },
          "execution_count": 41,
          "metadata": {},
          "output_type": "execute_result"
        }
      ]
    },
    {
      "metadata": {
        "trusted": false
      },
      "cell_type": "code",
      "source": "d['key2']",
      "execution_count": 42,
      "outputs": [
        {
          "data": {
            "text/plain": "123"
          },
          "execution_count": 42,
          "metadata": {},
          "output_type": "execute_result"
        }
      ]
    },
    {
      "metadata": {
        "trusted": false
      },
      "cell_type": "code",
      "source": "d = {'k1':[1,2,3]} # list in dictionary",
      "execution_count": 43,
      "outputs": []
    },
    {
      "metadata": {
        "trusted": false
      },
      "cell_type": "code",
      "source": "d['k1']",
      "execution_count": 48,
      "outputs": [
        {
          "data": {
            "text/plain": "[1, 2, 3]"
          },
          "execution_count": 48,
          "metadata": {},
          "output_type": "execute_result"
        }
      ]
    },
    {
      "metadata": {
        "trusted": false
      },
      "cell_type": "code",
      "source": "d['k1'][0] # search specific number in list",
      "execution_count": 57,
      "outputs": [
        {
          "data": {
            "text/plain": "1"
          },
          "execution_count": 57,
          "metadata": {},
          "output_type": "execute_result"
        }
      ]
    },
    {
      "metadata": {
        "trusted": false
      },
      "cell_type": "code",
      "source": "my_list = d['k1'] # add list to variable ",
      "execution_count": 58,
      "outputs": []
    },
    {
      "metadata": {
        "trusted": false
      },
      "cell_type": "code",
      "source": "my_list",
      "execution_count": 59,
      "outputs": [
        {
          "data": {
            "text/plain": "[1, 2, 3]"
          },
          "execution_count": 59,
          "metadata": {},
          "output_type": "execute_result"
        }
      ]
    },
    {
      "metadata": {
        "trusted": false
      },
      "cell_type": "code",
      "source": "my_list[2] # search specific number in list in variable",
      "execution_count": 60,
      "outputs": [
        {
          "data": {
            "text/plain": "3"
          },
          "execution_count": 60,
          "metadata": {},
          "output_type": "execute_result"
        }
      ]
    },
    {
      "metadata": {
        "trusted": false
      },
      "cell_type": "code",
      "source": "d = {'k1':{'inner':[1,2,3]}} # nest dictionary in dictionary",
      "execution_count": 61,
      "outputs": []
    },
    {
      "metadata": {
        "trusted": false
      },
      "cell_type": "code",
      "source": "d['k1']['inner']",
      "execution_count": 64,
      "outputs": [
        {
          "data": {
            "text/plain": "[1, 2, 3]"
          },
          "execution_count": 64,
          "metadata": {},
          "output_type": "execute_result"
        }
      ]
    },
    {
      "metadata": {
        "trusted": false
      },
      "cell_type": "code",
      "source": "d['k1']['inner'][2]",
      "execution_count": 65,
      "outputs": [
        {
          "data": {
            "text/plain": "3"
          },
          "execution_count": 65,
          "metadata": {},
          "output_type": "execute_result"
        }
      ]
    },
    {
      "metadata": {
        "trusted": false
      },
      "cell_type": "code",
      "source": "True  # boolean",
      "execution_count": 66,
      "outputs": [
        {
          "data": {
            "text/plain": "True"
          },
          "execution_count": 66,
          "metadata": {},
          "output_type": "execute_result"
        }
      ]
    },
    {
      "metadata": {
        "trusted": false
      },
      "cell_type": "code",
      "source": "False # boolean",
      "execution_count": 68,
      "outputs": [
        {
          "data": {
            "text/plain": "False"
          },
          "execution_count": 68,
          "metadata": {},
          "output_type": "execute_result"
        }
      ]
    },
    {
      "metadata": {
        "trusted": false
      },
      "cell_type": "code",
      "source": "t = (1,2,3) # tuple similar to list but use parenthesis instead blanket\n\n# In list, you can insert new value like my_list[2] = 'NEW' \n# but tuple can't so user can't change the value inside",
      "execution_count": 69,
      "outputs": []
    },
    {
      "metadata": {
        "trusted": false
      },
      "cell_type": "code",
      "source": "{1,2,3} # set use curly blanket",
      "execution_count": 70,
      "outputs": [
        {
          "data": {
            "text/plain": "{1, 2, 3}"
          },
          "execution_count": 70,
          "metadata": {},
          "output_type": "execute_result"
        }
      ]
    },
    {
      "metadata": {
        "trusted": false
      },
      "cell_type": "code",
      "source": "{1,1,1,2,2,2,2,3,3,3,3,3} # set just only see the unique element",
      "execution_count": 72,
      "outputs": [
        {
          "data": {
            "text/plain": "{1, 2, 3}"
          },
          "execution_count": 72,
          "metadata": {},
          "output_type": "execute_result"
        }
      ]
    },
    {
      "metadata": {
        "trusted": false
      },
      "cell_type": "code",
      "source": "set([1,2,2,2,2,2,2,2,6,6,6,6,7]) # set function",
      "execution_count": 73,
      "outputs": [
        {
          "data": {
            "text/plain": "{1, 2, 6, 7}"
          },
          "execution_count": 73,
          "metadata": {},
          "output_type": "execute_result"
        }
      ]
    },
    {
      "metadata": {
        "trusted": false
      },
      "cell_type": "code",
      "source": "s = {1,2,3}",
      "execution_count": 74,
      "outputs": []
    },
    {
      "metadata": {
        "trusted": false
      },
      "cell_type": "code",
      "source": "s.add(4) # add value to set if you re-add 4 again, it won't duplicate",
      "execution_count": 75,
      "outputs": []
    },
    {
      "metadata": {
        "trusted": false
      },
      "cell_type": "code",
      "source": "s",
      "execution_count": 76,
      "outputs": [
        {
          "data": {
            "text/plain": "{1, 2, 3, 4}"
          },
          "execution_count": 76,
          "metadata": {},
          "output_type": "execute_result"
        }
      ]
    },
    {
      "metadata": {},
      "cell_type": "markdown",
      "source": "### Comparison Operators"
    },
    {
      "metadata": {
        "trusted": false
      },
      "cell_type": "code",
      "source": "1 > 2",
      "execution_count": 77,
      "outputs": [
        {
          "data": {
            "text/plain": "False"
          },
          "execution_count": 77,
          "metadata": {},
          "output_type": "execute_result"
        }
      ]
    },
    {
      "metadata": {
        "trusted": false
      },
      "cell_type": "code",
      "source": "3 > -1",
      "execution_count": 79,
      "outputs": [
        {
          "data": {
            "text/plain": "True"
          },
          "execution_count": 79,
          "metadata": {},
          "output_type": "execute_result"
        }
      ]
    },
    {
      "metadata": {
        "trusted": false
      },
      "cell_type": "code",
      "source": "3 == 3",
      "execution_count": 80,
      "outputs": [
        {
          "data": {
            "text/plain": "True"
          },
          "execution_count": 80,
          "metadata": {},
          "output_type": "execute_result"
        }
      ]
    },
    {
      "metadata": {
        "trusted": false
      },
      "cell_type": "code",
      "source": "1 != 3 # not equal to",
      "execution_count": 81,
      "outputs": [
        {
          "data": {
            "text/plain": "True"
          },
          "execution_count": 81,
          "metadata": {},
          "output_type": "execute_result"
        }
      ]
    },
    {
      "metadata": {
        "trusted": false
      },
      "cell_type": "code",
      "source": "(1 < 2) and (2 < 3) # and operator",
      "execution_count": 82,
      "outputs": [
        {
          "data": {
            "text/plain": "True"
          },
          "execution_count": 82,
          "metadata": {},
          "output_type": "execute_result"
        }
      ]
    },
    {
      "metadata": {
        "trusted": false
      },
      "cell_type": "code",
      "source": "(1 < 3) or (2 > 3) or (1 != 1) # or (require only one truth)",
      "execution_count": 86,
      "outputs": [
        {
          "data": {
            "text/plain": "True"
          },
          "execution_count": 86,
          "metadata": {},
          "output_type": "execute_result"
        }
      ]
    },
    {
      "metadata": {
        "trusted": false
      },
      "cell_type": "code",
      "source": "if 1<2:  # if else else if statement\n    print('correct')",
      "execution_count": 87,
      "outputs": [
        {
          "name": "stdout",
          "output_type": "stream",
          "text": "correct\n"
        }
      ]
    },
    {
      "metadata": {
        "trusted": false
      },
      "cell_type": "code",
      "source": "if True:\n    x = 2+2",
      "execution_count": 88,
      "outputs": []
    },
    {
      "metadata": {
        "trusted": false
      },
      "cell_type": "code",
      "source": "x",
      "execution_count": 89,
      "outputs": [
        {
          "data": {
            "text/plain": "4"
          },
          "execution_count": 89,
          "metadata": {},
          "output_type": "execute_result"
        }
      ]
    },
    {
      "metadata": {},
      "cell_type": "markdown",
      "source": "### if,elif, else Statements"
    },
    {
      "metadata": {
        "trusted": false
      },
      "cell_type": "code",
      "source": "if 1 == 2:\n    print('first')\nelse:\n    print('last')    ",
      "execution_count": 90,
      "outputs": [
        {
          "name": "stdout",
          "output_type": "stream",
          "text": "last\n"
        }
      ]
    },
    {
      "metadata": {
        "trusted": false
      },
      "cell_type": "code",
      "source": "if 1 == 2:               # print the first one that is truth\n    print('first')\nelif 3 == 3:\n    print('middle')     \nelif 4 == 4:\n    print ('middle 2')\nelse:\n    print('last')  ",
      "execution_count": 93,
      "outputs": [
        {
          "name": "stdout",
          "output_type": "stream",
          "text": "middle\n"
        }
      ]
    },
    {
      "metadata": {},
      "cell_type": "markdown",
      "source": "### For Loops"
    },
    {
      "metadata": {
        "trusted": false
      },
      "cell_type": "code",
      "source": "seq = [1,2,3,4,5]",
      "execution_count": 1,
      "outputs": []
    },
    {
      "metadata": {
        "trusted": false
      },
      "cell_type": "code",
      "source": "for num in seq:\n    print(num)   #print every element in the list above",
      "execution_count": 2,
      "outputs": [
        {
          "name": "stdout",
          "output_type": "stream",
          "text": "1\n2\n3\n4\n5\n"
        }
      ]
    },
    {
      "metadata": {
        "trusted": false
      },
      "cell_type": "code",
      "source": "for num in seq:\n    print('hello')",
      "execution_count": 3,
      "outputs": [
        {
          "name": "stdout",
          "output_type": "stream",
          "text": "hello\nhello\nhello\nhello\nhello\n"
        }
      ]
    },
    {
      "metadata": {
        "trusted": false
      },
      "cell_type": "code",
      "source": "num",
      "execution_count": 4,
      "outputs": [
        {
          "data": {
            "text/plain": "5"
          },
          "execution_count": 4,
          "metadata": {},
          "output_type": "execute_result"
        }
      ]
    },
    {
      "metadata": {},
      "cell_type": "markdown",
      "source": "### while Loops"
    },
    {
      "metadata": {
        "trusted": false
      },
      "cell_type": "code",
      "source": "i = 1     \nwhile i < 5:\n    print('i is: {}'.format(i))\n    i = i+1 \n    # print until i = 5",
      "execution_count": 7,
      "outputs": [
        {
          "name": "stdout",
          "output_type": "stream",
          "text": "i is: 1\ni is: 2\ni is: 3\ni is: 4\n"
        }
      ]
    },
    {
      "metadata": {
        "trusted": false
      },
      "cell_type": "code",
      "source": "for x in range(0,5): # for loop with range\n    print(x)",
      "execution_count": 11,
      "outputs": [
        {
          "name": "stdout",
          "output_type": "stream",
          "text": "0\n1\n2\n3\n4\n"
        }
      ]
    },
    {
      "metadata": {},
      "cell_type": "markdown",
      "source": "### range()"
    },
    {
      "metadata": {
        "trusted": true
      },
      "cell_type": "code",
      "source": "range(0,6)",
      "execution_count": 1,
      "outputs": [
        {
          "output_type": "execute_result",
          "execution_count": 1,
          "data": {
            "text/plain": "range(0, 6)"
          },
          "metadata": {}
        }
      ]
    },
    {
      "metadata": {
        "trusted": false
      },
      "cell_type": "code",
      "source": "list(range(0,6)) # convert range to list  ",
      "execution_count": 14,
      "outputs": [
        {
          "data": {
            "text/plain": "[0, 1, 2, 3, 4, 5]"
          },
          "execution_count": 14,
          "metadata": {},
          "output_type": "execute_result"
        }
      ]
    },
    {
      "metadata": {
        "trusted": false
      },
      "cell_type": "code",
      "source": "list(range(10))",
      "execution_count": 16,
      "outputs": [
        {
          "data": {
            "text/plain": "[0, 1, 2, 3, 4, 5, 6, 7, 8, 9]"
          },
          "execution_count": 16,
          "metadata": {},
          "output_type": "execute_result"
        }
      ]
    },
    {
      "metadata": {},
      "cell_type": "markdown",
      "source": "### list comprehension"
    },
    {
      "metadata": {
        "trusted": false
      },
      "cell_type": "code",
      "source": "x = [1,2,3,4]",
      "execution_count": 17,
      "outputs": []
    },
    {
      "metadata": {
        "trusted": false
      },
      "cell_type": "code",
      "source": "out = [] # empty list\n\nfor num in x:  # x is list we created earlier\n    out.append(num**2)\nprint(out)\n\n# put every number in list in the blanket in out and power of 2",
      "execution_count": 18,
      "outputs": [
        {
          "name": "stdout",
          "output_type": "stream",
          "text": "[1, 4, 9, 16]\n"
        }
      ]
    },
    {
      "metadata": {
        "trusted": false
      },
      "cell_type": "code",
      "source": "# list comprehension translate for loop code to list comprehension and will get the same result\n# start with what you want first then for loop\n\nout = [num**2 for num in x]\nprint(out)",
      "execution_count": 22,
      "outputs": [
        {
          "name": "stdout",
          "output_type": "stream",
          "text": "[1, 4, 9, 16]\n"
        }
      ]
    },
    {
      "metadata": {},
      "cell_type": "markdown",
      "source": "### funtions"
    },
    {
      "metadata": {
        "trusted": false
      },
      "cell_type": "code",
      "source": "# define simple function\ndef my_func(param1): \n    print(param1)",
      "execution_count": 23,
      "outputs": []
    },
    {
      "metadata": {
        "trusted": false
      },
      "cell_type": "code",
      "source": "my_func('hello')",
      "execution_count": 24,
      "outputs": [
        {
          "name": "stdout",
          "output_type": "stream",
          "text": "hello\n"
        }
      ]
    },
    {
      "metadata": {
        "trusted": false
      },
      "cell_type": "code",
      "source": "# pass the name to function\ndef my_func(name): \n    print('hello '+name)",
      "execution_count": 28,
      "outputs": []
    },
    {
      "metadata": {
        "trusted": false
      },
      "cell_type": "code",
      "source": "my_func('John')",
      "execution_count": 29,
      "outputs": [
        {
          "name": "stdout",
          "output_type": "stream",
          "text": "hello John\n"
        }
      ]
    },
    {
      "metadata": {
        "trusted": false
      },
      "cell_type": "code",
      "source": "my_func  # without () means you just call the function and what's the object",
      "execution_count": 34,
      "outputs": [
        {
          "data": {
            "text/plain": "<function __main__.my_func>"
          },
          "execution_count": 34,
          "metadata": {},
          "output_type": "execute_result"
        }
      ]
    },
    {
      "metadata": {
        "trusted": false
      },
      "cell_type": "code",
      "source": "# pass the name to function\ndef my_func(name= 'Default Name'): \n    print('hello '+name)",
      "execution_count": 35,
      "outputs": []
    },
    {
      "metadata": {
        "trusted": false
      },
      "cell_type": "code",
      "source": "my_func()",
      "execution_count": 36,
      "outputs": [
        {
          "name": "stdout",
          "output_type": "stream",
          "text": "hello Default Name\n"
        }
      ]
    },
    {
      "metadata": {
        "trusted": false
      },
      "cell_type": "code",
      "source": "# use 'return' to return the value \n# when you use 'return', you need to equal something\n\ndef square(num):\n    return num**2 # return value will power of 2",
      "execution_count": 37,
      "outputs": []
    },
    {
      "metadata": {
        "trusted": false
      },
      "cell_type": "code",
      "source": "output = square(2)",
      "execution_count": 38,
      "outputs": []
    },
    {
      "metadata": {
        "trusted": false
      },
      "cell_type": "code",
      "source": "output",
      "execution_count": 39,
      "outputs": [
        {
          "data": {
            "text/plain": "4"
          },
          "execution_count": 39,
          "metadata": {},
          "output_type": "execute_result"
        }
      ]
    },
    {
      "metadata": {
        "trusted": false
      },
      "cell_type": "code",
      "source": "## put a documentation string on function\n\ndef square(num):\n    \"\"\"\n    THIS IS A DOCSTRING.\n    CAN GO MULTIPLE LINES.\n    THIS FUNCTION SQUARES A NUMBER.\n    \n    \"\"\"\n    return num**2",
      "execution_count": 4,
      "outputs": []
    },
    {
      "metadata": {
        "trusted": false
      },
      "cell_type": "code",
      "source": "output = square(8) #it will shown nothing on the result\noutput",
      "execution_count": 5,
      "outputs": [
        {
          "data": {
            "text/plain": "64"
          },
          "execution_count": 5,
          "metadata": {},
          "output_type": "execute_result"
        }
      ]
    },
    {
      "metadata": {
        "trusted": false
      },
      "cell_type": "code",
      "source": "square # but you can see description by cursor to the end of the function and press SHIFT + TAB",
      "execution_count": 44,
      "outputs": [
        {
          "data": {
            "text/plain": "<function __main__.square>"
          },
          "execution_count": 44,
          "metadata": {},
          "output_type": "execute_result"
        }
      ]
    },
    {
      "metadata": {},
      "cell_type": "markdown",
      "source": "### lambda expressions\n### map and filter"
    },
    {
      "metadata": {
        "trusted": false
      },
      "cell_type": "code",
      "source": "# create basic function first\ndef times2(var):\n    return var*2",
      "execution_count": 45,
      "outputs": []
    },
    {
      "metadata": {
        "trusted": false
      },
      "cell_type": "code",
      "source": "times2(6)",
      "execution_count": 51,
      "outputs": [
        {
          "data": {
            "text/plain": "12"
          },
          "execution_count": 51,
          "metadata": {},
          "output_type": "execute_result"
        }
      ]
    },
    {
      "metadata": {
        "trusted": false
      },
      "cell_type": "code",
      "source": "# map function \n# If we want to apply function to every element in list below\nseq = [1,2,3,4,5]",
      "execution_count": 52,
      "outputs": []
    },
    {
      "metadata": {
        "trusted": false
      },
      "cell_type": "code",
      "source": "# we can use for loop and append the list to do that\n# In this case, we use map function\n\nlist(map(times2,seq)) # return times2 function map in every element in seq variable and out to list",
      "execution_count": 53,
      "outputs": [
        {
          "data": {
            "text/plain": "[2, 4, 6, 8, 10]"
          },
          "execution_count": 53,
          "metadata": {},
          "output_type": "execute_result"
        }
      ]
    },
    {
      "metadata": {
        "trusted": false
      },
      "cell_type": "code",
      "source": "# or you can rewrite this function as lambda expression like\nt = lambda var:var*2",
      "execution_count": 50,
      "outputs": []
    },
    {
      "metadata": {
        "trusted": false
      },
      "cell_type": "code",
      "source": "# do the same with mapfunction\nlist(map(lambda var:var*2 ,seq))",
      "execution_count": 55,
      "outputs": [
        {
          "data": {
            "text/plain": "[2, 4, 6, 8, 10]"
          },
          "execution_count": 55,
          "metadata": {},
          "output_type": "execute_result"
        }
      ]
    },
    {
      "metadata": {
        "trusted": false
      },
      "cell_type": "code",
      "source": "# filter result form function or lambda expression\nlist(filter(lambda var: var%2==0,seq)) # return only even number of the list",
      "execution_count": 58,
      "outputs": [
        {
          "data": {
            "text/plain": "[2, 4]"
          },
          "execution_count": 58,
          "metadata": {},
          "output_type": "execute_result"
        }
      ]
    },
    {
      "metadata": {},
      "cell_type": "markdown",
      "source": "### methods"
    },
    {
      "metadata": {
        "trusted": false
      },
      "cell_type": "code",
      "source": "s = 'Hello, my name is Sam'",
      "execution_count": 59,
      "outputs": []
    },
    {
      "metadata": {
        "trusted": false
      },
      "cell_type": "code",
      "source": "# you can type s. and then press tab see all possible method\ns.lower() #lowercase all letters",
      "execution_count": 61,
      "outputs": [
        {
          "data": {
            "text/plain": "'hello, my name is sam'"
          },
          "execution_count": 61,
          "metadata": {},
          "output_type": "execute_result"
        }
      ]
    },
    {
      "metadata": {
        "trusted": false
      },
      "cell_type": "code",
      "source": "s.upper() #Upperrcase all letters",
      "execution_count": 62,
      "outputs": [
        {
          "data": {
            "text/plain": "'HELLO, MY NAME IS SAM'"
          },
          "execution_count": 62,
          "metadata": {},
          "output_type": "execute_result"
        }
      ]
    },
    {
      "metadata": {
        "trusted": false
      },
      "cell_type": "code",
      "source": "s.split() # to split the strings based on whitespace",
      "execution_count": 63,
      "outputs": [
        {
          "data": {
            "text/plain": "['hello,', 'my', 'name', 'is', 'Sam']"
          },
          "execution_count": 63,
          "metadata": {},
          "output_type": "execute_result"
        }
      ]
    },
    {
      "metadata": {
        "trusted": false
      },
      "cell_type": "code",
      "source": "tweet = 'Go Sports! #Sports GoGoGo'\ntweet.split()",
      "execution_count": 66,
      "outputs": [
        {
          "data": {
            "text/plain": "['Go', 'Sports!', '#Sports', 'GoGoGo']"
          },
          "execution_count": 66,
          "metadata": {},
          "output_type": "execute_result"
        }
      ]
    },
    {
      "metadata": {
        "trusted": false
      },
      "cell_type": "code",
      "source": "# split just only what we inform\ntweet.split('#') # split hashtag only",
      "execution_count": 68,
      "outputs": [
        {
          "data": {
            "text/plain": "['Go Sports! ', 'Sports GoGoGo']"
          },
          "execution_count": 68,
          "metadata": {},
          "output_type": "execute_result"
        }
      ]
    },
    {
      "metadata": {
        "trusted": false
      },
      "cell_type": "code",
      "source": "tweet.split('#')[0]",
      "execution_count": 71,
      "outputs": [
        {
          "data": {
            "text/plain": "'Go Sports! '"
          },
          "execution_count": 71,
          "metadata": {},
          "output_type": "execute_result"
        }
      ]
    },
    {
      "metadata": {
        "trusted": false
      },
      "cell_type": "code",
      "source": "k = {'k1':1, 'k2':2}",
      "execution_count": 72,
      "outputs": []
    },
    {
      "metadata": {
        "trusted": false
      },
      "cell_type": "code",
      "source": "k.keys() # return only keys in dictionary",
      "execution_count": 74,
      "outputs": [
        {
          "data": {
            "text/plain": "dict_keys(['k1', 'k2'])"
          },
          "execution_count": 74,
          "metadata": {},
          "output_type": "execute_result"
        }
      ]
    },
    {
      "metadata": {
        "trusted": false
      },
      "cell_type": "code",
      "source": "k.items() # return dictionary items",
      "execution_count": 76,
      "outputs": [
        {
          "data": {
            "text/plain": "dict_items([('k1', 1), ('k2', 2)])"
          },
          "execution_count": 76,
          "metadata": {},
          "output_type": "execute_result"
        }
      ]
    },
    {
      "metadata": {
        "trusted": false
      },
      "cell_type": "code",
      "source": "k.values() # return values in dictionary",
      "execution_count": 78,
      "outputs": [
        {
          "data": {
            "text/plain": "dict_values([1, 2])"
          },
          "execution_count": 78,
          "metadata": {},
          "output_type": "execute_result"
        }
      ]
    },
    {
      "metadata": {
        "trusted": false
      },
      "cell_type": "code",
      "source": "lst = [1,2,3] # create list",
      "execution_count": 81,
      "outputs": []
    },
    {
      "metadata": {
        "trusted": false
      },
      "cell_type": "code",
      "source": "lst",
      "execution_count": 82,
      "outputs": [
        {
          "data": {
            "text/plain": "[1, 2, 3]"
          },
          "execution_count": 82,
          "metadata": {},
          "output_type": "execute_result"
        }
      ]
    },
    {
      "metadata": {
        "trusted": false
      },
      "cell_type": "code",
      "source": "lst.pop() # bring the last value",
      "execution_count": 83,
      "outputs": [
        {
          "data": {
            "text/plain": "3"
          },
          "execution_count": 83,
          "metadata": {},
          "output_type": "execute_result"
        }
      ]
    },
    {
      "metadata": {
        "trusted": false
      },
      "cell_type": "code",
      "source": "lst # the last value is gone",
      "execution_count": 84,
      "outputs": [
        {
          "data": {
            "text/plain": "[1, 2]"
          },
          "execution_count": 84,
          "metadata": {},
          "output_type": "execute_result"
        }
      ]
    },
    {
      "metadata": {
        "trusted": false
      },
      "cell_type": "code",
      "source": "lst = [1,2,3,4,5]",
      "execution_count": 85,
      "outputs": []
    },
    {
      "metadata": {
        "trusted": false
      },
      "cell_type": "code",
      "source": "item = lst.pop() # pull only the last number",
      "execution_count": 86,
      "outputs": []
    },
    {
      "metadata": {
        "trusted": false
      },
      "cell_type": "code",
      "source": "lst # the last value is gone",
      "execution_count": 87,
      "outputs": [
        {
          "data": {
            "text/plain": "[1, 2, 3, 4]"
          },
          "execution_count": 87,
          "metadata": {},
          "output_type": "execute_result"
        }
      ]
    },
    {
      "metadata": {
        "trusted": false
      },
      "cell_type": "code",
      "source": "item",
      "execution_count": 88,
      "outputs": [
        {
          "data": {
            "text/plain": "5"
          },
          "execution_count": 88,
          "metadata": {},
          "output_type": "execute_result"
        }
      ]
    },
    {
      "metadata": {
        "trusted": false
      },
      "cell_type": "code",
      "source": "first = lst.pop(0) # take out the first value",
      "execution_count": 89,
      "outputs": []
    },
    {
      "metadata": {
        "trusted": false
      },
      "cell_type": "code",
      "source": "first",
      "execution_count": 90,
      "outputs": [
        {
          "data": {
            "text/plain": "1"
          },
          "execution_count": 90,
          "metadata": {},
          "output_type": "execute_result"
        }
      ]
    },
    {
      "metadata": {
        "trusted": false
      },
      "cell_type": "code",
      "source": "lst.append('new') #append the new item to the list",
      "execution_count": 92,
      "outputs": []
    },
    {
      "metadata": {
        "trusted": false
      },
      "cell_type": "code",
      "source": "lst",
      "execution_count": 93,
      "outputs": [
        {
          "data": {
            "text/plain": "[2, 3, 4, 'new']"
          },
          "execution_count": 93,
          "metadata": {},
          "output_type": "execute_result"
        }
      ]
    },
    {
      "metadata": {
        "trusted": false
      },
      "cell_type": "code",
      "source": "'x' in [1,2,3] #find 'x' in list ",
      "execution_count": 94,
      "outputs": [
        {
          "data": {
            "text/plain": "False"
          },
          "execution_count": 94,
          "metadata": {},
          "output_type": "execute_result"
        }
      ]
    },
    {
      "metadata": {
        "trusted": false
      },
      "cell_type": "code",
      "source": "'x' in [1,2,3, 'x']",
      "execution_count": 95,
      "outputs": [
        {
          "data": {
            "text/plain": "True"
          },
          "execution_count": 95,
          "metadata": {},
          "output_type": "execute_result"
        }
      ]
    },
    {
      "metadata": {
        "trusted": false
      },
      "cell_type": "code",
      "source": "x = [(1,2),(3,4),(5,6)] # tuples in a list",
      "execution_count": 96,
      "outputs": []
    },
    {
      "metadata": {
        "trusted": false
      },
      "cell_type": "code",
      "source": "for item in x:\n    print(item)",
      "execution_count": 99,
      "outputs": [
        {
          "name": "stdout",
          "output_type": "stream",
          "text": "(1, 2)\n(3, 4)\n(5, 6)\n"
        }
      ]
    },
    {
      "metadata": {
        "trusted": false
      },
      "cell_type": "code",
      "source": "# tuple unpacking --> unpack only first values on each tuple\nfor (a,b) in x:\n    print(a)",
      "execution_count": 101,
      "outputs": [
        {
          "name": "stdout",
          "output_type": "stream",
          "text": "1\n3\n5\n"
        }
      ]
    },
    {
      "metadata": {
        "trusted": false
      },
      "cell_type": "code",
      "source": "for a,b in x:\n    print(b)",
      "execution_count": 103,
      "outputs": [
        {
          "name": "stdout",
          "output_type": "stream",
          "text": "2\n4\n6\n"
        }
      ]
    },
    {
      "metadata": {
        "trusted": false
      },
      "cell_type": "code",
      "source": "",
      "execution_count": null,
      "outputs": []
    }
  ],
  "metadata": {
    "kernelspec": {
      "name": "python36",
      "display_name": "Python 3.6",
      "language": "python"
    },
    "language_info": {
      "mimetype": "text/x-python",
      "nbconvert_exporter": "python",
      "name": "python",
      "pygments_lexer": "ipython3",
      "version": "3.6.6",
      "file_extension": ".py",
      "codemirror_mode": {
        "version": 3,
        "name": "ipython"
      }
    }
  },
  "nbformat": 4,
  "nbformat_minor": 2
}