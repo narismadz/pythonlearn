{
  "cells": [
    {
      "metadata": {},
      "cell_type": "markdown",
      "source": "# Python Crash Course Exercises \n\nThis is an optional exercise to test your understanding of Python Basics. If you find this extremely challenging, then you probably are not ready for the rest of this course yet and don't have enough programming experience to continue. I would suggest you take another course more geared towards complete beginners, such as [Complete Python Bootcamp](https://www.udemy.com/complete-python-bootcamp)"
    },
    {
      "metadata": {},
      "cell_type": "markdown",
      "source": "## Exercises\n\nAnswer the questions or complete the tasks outlined in bold below, use the specific method described if applicable."
    },
    {
      "metadata": {},
      "cell_type": "markdown",
      "source": "** What is 7 to the power of 4?**"
    },
    {
      "metadata": {
        "trusted": false
      },
      "cell_type": "code",
      "source": "7 ** 4",
      "execution_count": 1,
      "outputs": [
        {
          "data": {
            "text/plain": "2401"
          },
          "execution_count": 1,
          "metadata": {},
          "output_type": "execute_result"
        }
      ]
    },
    {
      "metadata": {},
      "cell_type": "markdown",
      "source": "** Split this string:**\n\n    s = \"Hi there Sam!\"\n    \n**into a list. **"
    },
    {
      "metadata": {
        "trusted": false
      },
      "cell_type": "code",
      "source": "s = \"Hi there Sam!\"",
      "execution_count": 2,
      "outputs": []
    },
    {
      "metadata": {
        "trusted": false
      },
      "cell_type": "code",
      "source": "s.split()",
      "execution_count": 4,
      "outputs": [
        {
          "data": {
            "text/plain": "['Hi', 'there', 'Sam!']"
          },
          "execution_count": 4,
          "metadata": {},
          "output_type": "execute_result"
        }
      ]
    },
    {
      "metadata": {},
      "cell_type": "markdown",
      "source": "** Given the variables:**\n\n    planet = \"Earth\"\n    diameter = 12742\n\n** Use .format() to print the following string: **\n\n    The diameter of Earth is 12742 kilometers."
    },
    {
      "metadata": {
        "collapsed": true,
        "trusted": false
      },
      "cell_type": "code",
      "source": "planet = \"Earth\"\ndiameter = 12742",
      "execution_count": 5,
      "outputs": []
    },
    {
      "metadata": {
        "trusted": false
      },
      "cell_type": "code",
      "source": "print('The diameter of {one} is {two} kilometers.'.format(one=\"Earth\", two=12742))",
      "execution_count": 6,
      "outputs": [
        {
          "name": "stdout",
          "output_type": "stream",
          "text": "The diameter of Earth is 12742 kilometers.\n"
        }
      ]
    },
    {
      "metadata": {},
      "cell_type": "markdown",
      "source": "** Given this nested list, use indexing to grab the word \"hello\" **"
    },
    {
      "metadata": {
        "trusted": false
      },
      "cell_type": "code",
      "source": "lst = [1,2,[3,4],[5,[100,200,['hello']],23,11],1,7]",
      "execution_count": 14,
      "outputs": []
    },
    {
      "metadata": {
        "trusted": false
      },
      "cell_type": "code",
      "source": "lst[3][1][2]",
      "execution_count": 15,
      "outputs": [
        {
          "data": {
            "text/plain": "['hello']"
          },
          "execution_count": 15,
          "metadata": {},
          "output_type": "execute_result"
        }
      ]
    },
    {
      "metadata": {
        "trusted": false
      },
      "cell_type": "code",
      "source": "lst[3][1][2][0]",
      "execution_count": 17,
      "outputs": [
        {
          "data": {
            "text/plain": "'hello'"
          },
          "execution_count": 17,
          "metadata": {},
          "output_type": "execute_result"
        }
      ]
    },
    {
      "metadata": {
        "trusted": false
      },
      "cell_type": "code",
      "source": "print(lst[3][1][2][0])",
      "execution_count": 18,
      "outputs": [
        {
          "name": "stdout",
          "output_type": "stream",
          "text": "hello\n"
        }
      ]
    },
    {
      "metadata": {},
      "cell_type": "markdown",
      "source": "** Given this nested dictionary grab the word \"hello\". Be prepared, this will be annoying/tricky **"
    },
    {
      "metadata": {
        "trusted": false
      },
      "cell_type": "code",
      "source": "d = {'k1':[1,2,3,{'tricky':['oh','man','inception',{'target':[1,2,3,'hello']}]}]}",
      "execution_count": 27,
      "outputs": []
    },
    {
      "metadata": {
        "trusted": false
      },
      "cell_type": "code",
      "source": "d['k1'][3]['tricky'][3]['target'][3]",
      "execution_count": 36,
      "outputs": [
        {
          "data": {
            "text/plain": "'hello'"
          },
          "execution_count": 36,
          "metadata": {},
          "output_type": "execute_result"
        }
      ]
    },
    {
      "metadata": {},
      "cell_type": "markdown",
      "source": "** What is the main difference between a tuple and a list? **"
    },
    {
      "metadata": {
        "collapsed": true,
        "trusted": false
      },
      "cell_type": "code",
      "source": "# Tuple is immutable",
      "execution_count": 23,
      "outputs": []
    },
    {
      "metadata": {},
      "cell_type": "markdown",
      "source": "** Create a function that grabs the email website domain from a string in the form: **\n\n    user@domain.com\n    \n**So for example, passing \"user@domain.com\" would return: domain.com**"
    },
    {
      "metadata": {
        "trusted": false
      },
      "cell_type": "code",
      "source": "def domainGet(mail):\n    return mail.split('@')[1]\n    ",
      "execution_count": 83,
      "outputs": []
    },
    {
      "metadata": {
        "trusted": false
      },
      "cell_type": "code",
      "source": "domainGet('user@domain.com') ",
      "execution_count": 84,
      "outputs": [
        {
          "data": {
            "text/plain": "'domain.com'"
          },
          "execution_count": 84,
          "metadata": {},
          "output_type": "execute_result"
        }
      ]
    },
    {
      "metadata": {
        "trusted": true
      },
      "cell_type": "code",
      "source": "def domainGet(mail):\n    print(mail.split('@')[1]) # if want to remove ''",
      "execution_count": 3,
      "outputs": []
    },
    {
      "metadata": {
        "trusted": true
      },
      "cell_type": "code",
      "source": "domainGet('user@domain.com') ",
      "execution_count": 4,
      "outputs": [
        {
          "output_type": "stream",
          "text": "domain.com\n",
          "name": "stdout"
        }
      ]
    },
    {
      "metadata": {},
      "cell_type": "markdown",
      "source": "** Create a basic function that returns True if the word 'dog' is contained in the input string. Don't worry about edge cases like a punctuation being attached to the word dog, but do account for capitalization. **"
    },
    {
      "metadata": {
        "trusted": true
      },
      "cell_type": "code",
      "source": "def findDog(word):\n    return 'dog' in word.lower().split()\n\n## def findDog(word):\n##    return 'dog' in word\n    ",
      "execution_count": 22,
      "outputs": []
    },
    {
      "metadata": {
        "trusted": true
      },
      "cell_type": "code",
      "source": "findDog('Is there a dog here?')",
      "execution_count": 23,
      "outputs": [
        {
          "output_type": "execute_result",
          "execution_count": 23,
          "data": {
            "text/plain": "True"
          },
          "metadata": {}
        }
      ]
    },
    {
      "metadata": {},
      "cell_type": "markdown",
      "source": "** Create a function that counts the number of times the word \"dog\" occurs in a string. Again ignore edge cases. **"
    },
    {
      "metadata": {
        "trusted": false
      },
      "cell_type": "code",
      "source": "def countDog(sw):\n    count = 0\n    for word in sw.lower().split():\n        if word == 'dog':\n            count += 1\n    return count",
      "execution_count": 149,
      "outputs": []
    },
    {
      "metadata": {
        "trusted": false
      },
      "cell_type": "code",
      "source": "countDog('This dog runs faster than the other dog dude!')",
      "execution_count": 150,
      "outputs": [
        {
          "data": {
            "text/plain": "2"
          },
          "execution_count": 150,
          "metadata": {},
          "output_type": "execute_result"
        }
      ]
    },
    {
      "metadata": {},
      "cell_type": "markdown",
      "source": "** Use lambda expressions and the filter() function to filter out words from a list that don't start with the letter 's'. For example:**\n\n    seq = ['soup','dog','salad','cat','great']\n\n**should be filtered down to:**\n\n    ['soup','salad']"
    },
    {
      "metadata": {
        "trusted": false
      },
      "cell_type": "code",
      "source": "seq = ['soup','dog','salad','cat','great']",
      "execution_count": 130,
      "outputs": []
    },
    {
      "metadata": {
        "trusted": false
      },
      "cell_type": "code",
      "source": "list(filter(lambda seq : 's' in seq, seq))\n\n## list(filter(lambda word : word[0] == 's', seq))",
      "execution_count": 131,
      "outputs": [
        {
          "data": {
            "text/plain": "['soup', 'salad']"
          },
          "execution_count": 131,
          "metadata": {},
          "output_type": "execute_result"
        }
      ]
    },
    {
      "metadata": {},
      "cell_type": "markdown",
      "source": "### Final Problem\n**You are driving a little too fast, and a police officer stops you. Write a function\n  to return one of 3 possible results: \"No ticket\", \"Small ticket\", or \"Big Ticket\". \n  If your speed is 60 or less, the result is \"No Ticket\". If speed is between 61 \n  and 80 inclusive, the result is \"Small Ticket\". If speed is 81 or more, the result is \"Big    Ticket\". Unless it is your birthday (encoded as a boolean value in the parameters of the function) -- on your birthday, your speed can be 5 higher in all \n  cases. **"
    },
    {
      "metadata": {
        "trusted": false
      },
      "cell_type": "code",
      "source": "def caught_speeding(speed, is_birthday):\n    \n    if is_birthday:\n        speeding = speed - 5\n    else:\n        speeding = speed\n        \n        \n    if speeding > 80:\n        return 'Big Ticket'\n    elif speeding > 60:\n        return 'Small Ticket'\n    else: \n        return 'No ticket'",
      "execution_count": 159,
      "outputs": []
    },
    {
      "metadata": {
        "trusted": false
      },
      "cell_type": "code",
      "source": "caught_speeding(81,True)",
      "execution_count": 160,
      "outputs": [
        {
          "data": {
            "text/plain": "'Small Ticket'"
          },
          "execution_count": 160,
          "metadata": {},
          "output_type": "execute_result"
        }
      ]
    },
    {
      "metadata": {
        "trusted": false
      },
      "cell_type": "code",
      "source": "caught_speeding(81,False)",
      "execution_count": 161,
      "outputs": [
        {
          "data": {
            "text/plain": "'Big Ticket'"
          },
          "execution_count": 161,
          "metadata": {},
          "output_type": "execute_result"
        }
      ]
    },
    {
      "metadata": {},
      "cell_type": "markdown",
      "source": "# Great job!"
    }
  ],
  "metadata": {
    "kernelspec": {
      "name": "python3",
      "display_name": "Python 3",
      "language": "python"
    },
    "language_info": {
      "mimetype": "text/x-python",
      "nbconvert_exporter": "python",
      "name": "python",
      "file_extension": ".py",
      "version": "3.5.4",
      "pygments_lexer": "ipython3",
      "codemirror_mode": {
        "version": 3,
        "name": "ipython"
      }
    }
  },
  "nbformat": 4,
  "nbformat_minor": 1
}