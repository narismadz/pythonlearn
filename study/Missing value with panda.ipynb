{
  "cells": [
    {
      "metadata": {
        "collapsed": true
      },
      "cell_type": "markdown",
      "source": "# Handle missing data (UFO report)"
    },
    {
      "metadata": {},
      "cell_type": "markdown",
      "source": "## See the data, see where is null"
    },
    {
      "metadata": {
        "trusted": true
      },
      "cell_type": "code",
      "source": "# import panda library\nimport pandas as pd\n\n# import .csv file (UFO data from Github)\nufo = pd.read_csv('http://bit.ly/uforeports')",
      "execution_count": 1,
      "outputs": []
    },
    {
      "metadata": {
        "scrolled": true,
        "trusted": true
      },
      "cell_type": "code",
      "source": "ufo.tail() #see the last 5 (notice the NaN/Null value --> missing value)",
      "execution_count": 2,
      "outputs": [
        {
          "output_type": "execute_result",
          "execution_count": 2,
          "data": {
            "text/html": "<div>\n<style scoped>\n    .dataframe tbody tr th:only-of-type {\n        vertical-align: middle;\n    }\n\n    .dataframe tbody tr th {\n        vertical-align: top;\n    }\n\n    .dataframe thead th {\n        text-align: right;\n    }\n</style>\n<table border=\"1\" class=\"dataframe\">\n  <thead>\n    <tr style=\"text-align: right;\">\n      <th></th>\n      <th>City</th>\n      <th>Colors Reported</th>\n      <th>Shape Reported</th>\n      <th>State</th>\n      <th>Time</th>\n    </tr>\n  </thead>\n  <tbody>\n    <tr>\n      <th>18236</th>\n      <td>Grant Park</td>\n      <td>NaN</td>\n      <td>TRIANGLE</td>\n      <td>IL</td>\n      <td>12/31/2000 23:00</td>\n    </tr>\n    <tr>\n      <th>18237</th>\n      <td>Spirit Lake</td>\n      <td>NaN</td>\n      <td>DISK</td>\n      <td>IA</td>\n      <td>12/31/2000 23:00</td>\n    </tr>\n    <tr>\n      <th>18238</th>\n      <td>Eagle River</td>\n      <td>NaN</td>\n      <td>NaN</td>\n      <td>WI</td>\n      <td>12/31/2000 23:45</td>\n    </tr>\n    <tr>\n      <th>18239</th>\n      <td>Eagle River</td>\n      <td>RED</td>\n      <td>LIGHT</td>\n      <td>WI</td>\n      <td>12/31/2000 23:45</td>\n    </tr>\n    <tr>\n      <th>18240</th>\n      <td>Ybor</td>\n      <td>NaN</td>\n      <td>OVAL</td>\n      <td>FL</td>\n      <td>12/31/2000 23:59</td>\n    </tr>\n  </tbody>\n</table>\n</div>",
            "text/plain": "              City Colors Reported Shape Reported State              Time\n18236   Grant Park             NaN       TRIANGLE    IL  12/31/2000 23:00\n18237  Spirit Lake             NaN           DISK    IA  12/31/2000 23:00\n18238  Eagle River             NaN            NaN    WI  12/31/2000 23:45\n18239  Eagle River             RED          LIGHT    WI  12/31/2000 23:45\n18240         Ybor             NaN           OVAL    FL  12/31/2000 23:59"
          },
          "metadata": {}
        }
      ]
    },
    {
      "metadata": {
        "trusted": false
      },
      "cell_type": "code",
      "source": "# see total row and column\nufo.shape",
      "execution_count": 55,
      "outputs": [
        {
          "data": {
            "text/plain": "(18241, 5)"
          },
          "execution_count": 55,
          "metadata": {},
          "output_type": "execute_result"
        }
      ]
    },
    {
      "metadata": {
        "trusted": false
      },
      "cell_type": "code",
      "source": "# see NaN in True/False from that data\nufo.isnull().tail()",
      "execution_count": 56,
      "outputs": [
        {
          "data": {
            "text/html": "<div>\n<style>\n    .dataframe thead tr:only-child th {\n        text-align: right;\n    }\n\n    .dataframe thead th {\n        text-align: left;\n    }\n\n    .dataframe tbody tr th {\n        vertical-align: top;\n    }\n</style>\n<table border=\"1\" class=\"dataframe\">\n  <thead>\n    <tr style=\"text-align: right;\">\n      <th></th>\n      <th>City</th>\n      <th>Colors Reported</th>\n      <th>Shape Reported</th>\n      <th>State</th>\n      <th>Time</th>\n    </tr>\n  </thead>\n  <tbody>\n    <tr>\n      <th>18236</th>\n      <td>False</td>\n      <td>True</td>\n      <td>False</td>\n      <td>False</td>\n      <td>False</td>\n    </tr>\n    <tr>\n      <th>18237</th>\n      <td>False</td>\n      <td>True</td>\n      <td>False</td>\n      <td>False</td>\n      <td>False</td>\n    </tr>\n    <tr>\n      <th>18238</th>\n      <td>False</td>\n      <td>True</td>\n      <td>True</td>\n      <td>False</td>\n      <td>False</td>\n    </tr>\n    <tr>\n      <th>18239</th>\n      <td>False</td>\n      <td>False</td>\n      <td>False</td>\n      <td>False</td>\n      <td>False</td>\n    </tr>\n    <tr>\n      <th>18240</th>\n      <td>False</td>\n      <td>True</td>\n      <td>False</td>\n      <td>False</td>\n      <td>False</td>\n    </tr>\n  </tbody>\n</table>\n</div>",
            "text/plain": "        City  Colors Reported  Shape Reported  State   Time\n18236  False             True           False  False  False\n18237  False             True           False  False  False\n18238  False             True            True  False  False\n18239  False            False           False  False  False\n18240  False             True           False  False  False"
          },
          "execution_count": 56,
          "metadata": {},
          "output_type": "execute_result"
        }
      ]
    },
    {
      "metadata": {
        "trusted": false
      },
      "cell_type": "code",
      "source": "# find the # of NaN in each col\n# in the background each col, it's convert True = 1, False = 0 and then sum all up\nufo.isnull().sum()",
      "execution_count": 57,
      "outputs": [
        {
          "data": {
            "text/plain": "City                  25\nColors Reported    15359\nShape Reported      2644\nState                  0\nTime                   0\ndtype: int64"
          },
          "execution_count": 57,
          "metadata": {},
          "output_type": "execute_result"
        }
      ]
    },
    {
      "metadata": {
        "scrolled": true,
        "trusted": false
      },
      "cell_type": "code",
      "source": "# if we want to see only the row that has City column is null\nufo[ufo.City.isnull()]",
      "execution_count": 58,
      "outputs": [
        {
          "data": {
            "text/html": "<div>\n<style>\n    .dataframe thead tr:only-child th {\n        text-align: right;\n    }\n\n    .dataframe thead th {\n        text-align: left;\n    }\n\n    .dataframe tbody tr th {\n        vertical-align: top;\n    }\n</style>\n<table border=\"1\" class=\"dataframe\">\n  <thead>\n    <tr style=\"text-align: right;\">\n      <th></th>\n      <th>City</th>\n      <th>Colors Reported</th>\n      <th>Shape Reported</th>\n      <th>State</th>\n      <th>Time</th>\n    </tr>\n  </thead>\n  <tbody>\n    <tr>\n      <th>21</th>\n      <td>NaN</td>\n      <td>NaN</td>\n      <td>NaN</td>\n      <td>LA</td>\n      <td>8/15/1943 0:00</td>\n    </tr>\n    <tr>\n      <th>22</th>\n      <td>NaN</td>\n      <td>NaN</td>\n      <td>LIGHT</td>\n      <td>LA</td>\n      <td>8/15/1943 0:00</td>\n    </tr>\n    <tr>\n      <th>204</th>\n      <td>NaN</td>\n      <td>NaN</td>\n      <td>DISK</td>\n      <td>CA</td>\n      <td>7/15/1952 12:30</td>\n    </tr>\n    <tr>\n      <th>241</th>\n      <td>NaN</td>\n      <td>BLUE</td>\n      <td>DISK</td>\n      <td>MT</td>\n      <td>7/4/1953 14:00</td>\n    </tr>\n    <tr>\n      <th>613</th>\n      <td>NaN</td>\n      <td>NaN</td>\n      <td>DISK</td>\n      <td>NV</td>\n      <td>7/1/1960 12:00</td>\n    </tr>\n    <tr>\n      <th>1877</th>\n      <td>NaN</td>\n      <td>YELLOW</td>\n      <td>CIRCLE</td>\n      <td>AZ</td>\n      <td>8/15/1969 1:00</td>\n    </tr>\n    <tr>\n      <th>2013</th>\n      <td>NaN</td>\n      <td>NaN</td>\n      <td>NaN</td>\n      <td>NH</td>\n      <td>8/1/1970 9:30</td>\n    </tr>\n    <tr>\n      <th>2546</th>\n      <td>NaN</td>\n      <td>NaN</td>\n      <td>FIREBALL</td>\n      <td>OH</td>\n      <td>10/25/1973 23:30</td>\n    </tr>\n    <tr>\n      <th>3123</th>\n      <td>NaN</td>\n      <td>RED</td>\n      <td>TRIANGLE</td>\n      <td>WV</td>\n      <td>11/25/1975 23:00</td>\n    </tr>\n    <tr>\n      <th>4736</th>\n      <td>NaN</td>\n      <td>NaN</td>\n      <td>SPHERE</td>\n      <td>CA</td>\n      <td>6/23/1982 23:00</td>\n    </tr>\n    <tr>\n      <th>5269</th>\n      <td>NaN</td>\n      <td>NaN</td>\n      <td>NaN</td>\n      <td>AZ</td>\n      <td>6/30/1985 21:30</td>\n    </tr>\n    <tr>\n      <th>6735</th>\n      <td>NaN</td>\n      <td>NaN</td>\n      <td>FORMATION</td>\n      <td>TX</td>\n      <td>4/1/1992 2:00</td>\n    </tr>\n    <tr>\n      <th>7208</th>\n      <td>NaN</td>\n      <td>NaN</td>\n      <td>CIRCLE</td>\n      <td>MI</td>\n      <td>10/4/1993 17:30</td>\n    </tr>\n    <tr>\n      <th>8828</th>\n      <td>NaN</td>\n      <td>NaN</td>\n      <td>TRIANGLE</td>\n      <td>WA</td>\n      <td>10/30/1995 21:30</td>\n    </tr>\n    <tr>\n      <th>8967</th>\n      <td>NaN</td>\n      <td>NaN</td>\n      <td>VARIOUS</td>\n      <td>CA</td>\n      <td>12/8/1995 18:00</td>\n    </tr>\n    <tr>\n      <th>9273</th>\n      <td>NaN</td>\n      <td>NaN</td>\n      <td>TRIANGLE</td>\n      <td>OH</td>\n      <td>5/1/1996 3:00</td>\n    </tr>\n    <tr>\n      <th>9388</th>\n      <td>NaN</td>\n      <td>NaN</td>\n      <td>OVAL</td>\n      <td>CA</td>\n      <td>6/12/1996 12:00</td>\n    </tr>\n    <tr>\n      <th>9587</th>\n      <td>NaN</td>\n      <td>NaN</td>\n      <td>EGG</td>\n      <td>FL</td>\n      <td>8/24/1996 15:00</td>\n    </tr>\n    <tr>\n      <th>10399</th>\n      <td>NaN</td>\n      <td>NaN</td>\n      <td>TRIANGLE</td>\n      <td>IL</td>\n      <td>6/15/1997 23:00</td>\n    </tr>\n    <tr>\n      <th>11625</th>\n      <td>NaN</td>\n      <td>NaN</td>\n      <td>CIRCLE</td>\n      <td>TX</td>\n      <td>6/7/1998 7:00</td>\n    </tr>\n    <tr>\n      <th>12441</th>\n      <td>NaN</td>\n      <td>RED</td>\n      <td>FIREBALL</td>\n      <td>WA</td>\n      <td>10/26/1998 17:58</td>\n    </tr>\n    <tr>\n      <th>15767</th>\n      <td>NaN</td>\n      <td>NaN</td>\n      <td>RECTANGLE</td>\n      <td>NV</td>\n      <td>1/21/2000 11:30</td>\n    </tr>\n    <tr>\n      <th>15812</th>\n      <td>NaN</td>\n      <td>NaN</td>\n      <td>LIGHT</td>\n      <td>NV</td>\n      <td>2/2/2000 3:00</td>\n    </tr>\n    <tr>\n      <th>16054</th>\n      <td>NaN</td>\n      <td>GREEN</td>\n      <td>NaN</td>\n      <td>FL</td>\n      <td>3/11/2000 3:30</td>\n    </tr>\n    <tr>\n      <th>16608</th>\n      <td>NaN</td>\n      <td>NaN</td>\n      <td>SPHERE</td>\n      <td>NY</td>\n      <td>6/15/2000 15:00</td>\n    </tr>\n  </tbody>\n</table>\n</div>",
            "text/plain": "      City Colors Reported Shape Reported State              Time\n21     NaN             NaN            NaN    LA    8/15/1943 0:00\n22     NaN             NaN          LIGHT    LA    8/15/1943 0:00\n204    NaN             NaN           DISK    CA   7/15/1952 12:30\n241    NaN            BLUE           DISK    MT    7/4/1953 14:00\n613    NaN             NaN           DISK    NV    7/1/1960 12:00\n1877   NaN          YELLOW         CIRCLE    AZ    8/15/1969 1:00\n2013   NaN             NaN            NaN    NH     8/1/1970 9:30\n2546   NaN             NaN       FIREBALL    OH  10/25/1973 23:30\n3123   NaN             RED       TRIANGLE    WV  11/25/1975 23:00\n4736   NaN             NaN         SPHERE    CA   6/23/1982 23:00\n5269   NaN             NaN            NaN    AZ   6/30/1985 21:30\n6735   NaN             NaN      FORMATION    TX     4/1/1992 2:00\n7208   NaN             NaN         CIRCLE    MI   10/4/1993 17:30\n8828   NaN             NaN       TRIANGLE    WA  10/30/1995 21:30\n8967   NaN             NaN        VARIOUS    CA   12/8/1995 18:00\n9273   NaN             NaN       TRIANGLE    OH     5/1/1996 3:00\n9388   NaN             NaN           OVAL    CA   6/12/1996 12:00\n9587   NaN             NaN            EGG    FL   8/24/1996 15:00\n10399  NaN             NaN       TRIANGLE    IL   6/15/1997 23:00\n11625  NaN             NaN         CIRCLE    TX     6/7/1998 7:00\n12441  NaN             RED       FIREBALL    WA  10/26/1998 17:58\n15767  NaN             NaN      RECTANGLE    NV   1/21/2000 11:30\n15812  NaN             NaN          LIGHT    NV     2/2/2000 3:00\n16054  NaN           GREEN            NaN    FL    3/11/2000 3:30\n16608  NaN             NaN         SPHERE    NY   6/15/2000 15:00"
          },
          "execution_count": 58,
          "metadata": {},
          "output_type": "execute_result"
        }
      ]
    },
    {
      "metadata": {},
      "cell_type": "markdown",
      "source": "# Clear missing value (Drop method)"
    },
    {
      "metadata": {
        "trusted": false
      },
      "cell_type": "code",
      "source": "# see total row and column\nufo.shape",
      "execution_count": 59,
      "outputs": [
        {
          "data": {
            "text/plain": "(18241, 5)"
          },
          "execution_count": 59,
          "metadata": {},
          "output_type": "execute_result"
        }
      ]
    },
    {
      "metadata": {
        "trusted": false
      },
      "cell_type": "code",
      "source": "# see total row and column if drop all null rows (not real drop)\nufo.dropna(how='any').shape\n\n# if we want to do real drop use inplace=True\n# ufo.dropna(how='any', inplace=True)",
      "execution_count": 60,
      "outputs": [
        {
          "data": {
            "text/plain": "(2486, 5)"
          },
          "execution_count": 60,
          "metadata": {},
          "output_type": "execute_result"
        }
      ]
    },
    {
      "metadata": {
        "trusted": false
      },
      "cell_type": "code",
      "source": "# see total row and column if drop all rows that all columns has null \nufo.dropna(how='all').shape\n\n# you will see it remove nothing since state and time column has value in all rows\n# this is just to show ",
      "execution_count": 61,
      "outputs": [
        {
          "data": {
            "text/plain": "(18241, 5)"
          },
          "execution_count": 61,
          "metadata": {},
          "output_type": "execute_result"
        }
      ]
    },
    {
      "metadata": {
        "trusted": false
      },
      "cell_type": "code",
      "source": "# see if we drop all rows that either City or Shape Reported col has null value\nufo.dropna(subset=['City','Shape Reported'], how='any').shape",
      "execution_count": 62,
      "outputs": [
        {
          "data": {
            "text/plain": "(15576, 5)"
          },
          "execution_count": 62,
          "metadata": {},
          "output_type": "execute_result"
        }
      ]
    },
    {
      "metadata": {
        "trusted": false
      },
      "cell_type": "code",
      "source": "# see if we drop all rows that both City and Shape Reported col has null value\nufo.dropna(subset=['City','Shape Reported'], how='all').shape",
      "execution_count": 63,
      "outputs": [
        {
          "data": {
            "text/plain": "(18237, 5)"
          },
          "execution_count": 63,
          "metadata": {},
          "output_type": "execute_result"
        }
      ]
    },
    {
      "metadata": {},
      "cell_type": "markdown",
      "source": "# Clear missing value (Fill up method)"
    },
    {
      "metadata": {
        "scrolled": true,
        "trusted": false
      },
      "cell_type": "code",
      "source": "# Show frequency of each value in Shape Report col (exclude null)\nufo['Shape Reported'].value_counts()",
      "execution_count": 65,
      "outputs": [
        {
          "data": {
            "text/plain": "LIGHT        2803\nDISK         2122\nTRIANGLE     1889\nOTHER        1402\nCIRCLE       1365\nSPHERE       1054\nFIREBALL     1039\nOVAL          845\nCIGAR         617\nFORMATION     434\nVARIOUS       333\nRECTANGLE     303\nCYLINDER      294\nCHEVRON       248\nDIAMOND       234\nEGG           197\nFLASH         188\nTEARDROP      119\nCONE           60\nCROSS          36\nDELTA           7\nROUND           2\nCRESCENT        2\nDOME            1\nHEXAGON         1\nPYRAMID         1\nFLARE           1\nName: Shape Reported, dtype: int64"
          },
          "execution_count": 65,
          "metadata": {},
          "output_type": "execute_result"
        }
      ]
    },
    {
      "metadata": {
        "scrolled": true,
        "trusted": false
      },
      "cell_type": "code",
      "source": "ufo['Shape Reported'].value_counts(dropna=False) # if Null(NaN) is counted",
      "execution_count": 66,
      "outputs": [
        {
          "data": {
            "text/plain": "LIGHT        2803\nNaN          2644\nDISK         2122\nTRIANGLE     1889\nOTHER        1402\nCIRCLE       1365\nSPHERE       1054\nFIREBALL     1039\nOVAL          845\nCIGAR         617\nFORMATION     434\nVARIOUS       333\nRECTANGLE     303\nCYLINDER      294\nCHEVRON       248\nDIAMOND       234\nEGG           197\nFLASH         188\nTEARDROP      119\nCONE           60\nCROSS          36\nDELTA           7\nCRESCENT        2\nROUND           2\nPYRAMID         1\nDOME            1\nHEXAGON         1\nFLARE           1\nName: Shape Reported, dtype: int64"
          },
          "execution_count": 66,
          "metadata": {},
          "output_type": "execute_result"
        }
      ]
    },
    {
      "metadata": {
        "trusted": false
      },
      "cell_type": "code",
      "source": "# if we want to fill null with VARIOUS value (seems to make sense)\nufo['Shape Reported'].fillna(value='VARIOUS', inplace=True )",
      "execution_count": 67,
      "outputs": []
    },
    {
      "metadata": {
        "scrolled": true,
        "trusted": false
      },
      "cell_type": "code",
      "source": "# check the result\nufo['Shape Reported'].value_counts(dropna=False)",
      "execution_count": 68,
      "outputs": [
        {
          "data": {
            "text/plain": "VARIOUS      2977\nLIGHT        2803\nDISK         2122\nTRIANGLE     1889\nOTHER        1402\nCIRCLE       1365\nSPHERE       1054\nFIREBALL     1039\nOVAL          845\nCIGAR         617\nFORMATION     434\nRECTANGLE     303\nCYLINDER      294\nCHEVRON       248\nDIAMOND       234\nEGG           197\nFLASH         188\nTEARDROP      119\nCONE           60\nCROSS          36\nDELTA           7\nROUND           2\nCRESCENT        2\nDOME            1\nHEXAGON         1\nPYRAMID         1\nFLARE           1\nName: Shape Reported, dtype: int64"
          },
          "execution_count": 68,
          "metadata": {},
          "output_type": "execute_result"
        }
      ]
    },
    {
      "metadata": {
        "trusted": false
      },
      "cell_type": "code",
      "source": "",
      "execution_count": null,
      "outputs": []
    }
  ],
  "metadata": {
    "kernelspec": {
      "name": "python36",
      "display_name": "Python 3.6",
      "language": "python"
    },
    "language_info": {
      "mimetype": "text/x-python",
      "nbconvert_exporter": "python",
      "name": "python",
      "pygments_lexer": "ipython3",
      "version": "3.6.6",
      "file_extension": ".py",
      "codemirror_mode": {
        "version": 3,
        "name": "ipython"
      }
    }
  },
  "nbformat": 4,
  "nbformat_minor": 2
}